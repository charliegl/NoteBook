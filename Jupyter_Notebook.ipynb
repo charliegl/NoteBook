{
 "cells": [
  {
   "cell_type": "markdown",
   "metadata": {},
   "source": [
    "<center>\n",
    "    <img src=\"https://cf-courses-data.s3.us.cloud-object-storage.appdomain.cloud/IBMDeveloperSkillsNetwork-DS0105EN-SkillsNetwork/labs/Module2/images/SN_web_lightmode.png\" width=\"300\" alt=\"cognitiveclass.ai logo\">\n",
    "</center>\n"
   ]
  },
  {
   "cell_type": "markdown",
   "metadata": {},
   "source": [
    "#### Add your code below following the instructions given in the course\n"
   ]
  },
  {
   "cell_type": "markdown",
   "metadata": {},
   "source": [
    "# Data Science Essentials Notebook"
   ]
  },
  {
   "cell_type": "markdown",
   "metadata": {},
   "source": [
    "## Introducción  \n",
    "Este cuaderno contiene ejercicios básicos diseñados para practicar elementos fundamentales de ciencia de datos, incluyendo lenguajes, bibliotecas, operaciones matemáticas y herramientas esenciales."
   ]
  },
  {
   "cell_type": "markdown",
   "metadata": {},
   "source": [
    "## Lenguajes Usados en Ciencia de Datos  \n",
    "- Python  \n",
    "- R  \n",
    "- SQL  \n",
    "- Julia  \n",
    "- Scala"
   ]
  },
  {
   "cell_type": "markdown",
   "metadata": {},
   "source": [
    "## Bibliotecas Populares de Ciencia de Datos  \n",
    "- NumPy  \n",
    "- Pandas  \n",
    "- Matplotlib  \n",
    "- Scikit-learn  \n",
    "- TensorFlow"
   ]
  },
  {
   "cell_type": "markdown",
   "metadata": {},
   "source": [
    "## Herramientas de Ciencia de Datos\n",
    "\n",
    "| Herramienta        | Categoría           |\n",
    "|--------------------|---------------------|\n",
    "| Jupyter Notebook   | Entorno de desarrollo |\n",
    "| Apache Spark       | Procesamiento de datos |\n",
    "| Tableau            | Visualización         |\n",
    "| TensorFlow         | Aprendizaje automático |\n",
    "| GitHub             | Control de versiones  |"
   ]
  },
  {
   "cell_type": "markdown",
   "metadata": {},
   "source": [
    "## Ejemplos de Expresiones Aritméticas  \n",
    "En esta sección veremos cómo sumar, restar, multiplicar y dividir usando código Python."
   ]
  },
  {
   "cell_type": "markdown",
   "metadata": {},
   "source": [
    "# Multiplicación y Suma\n",
    "a = 5\n",
    "b = 3\n",
    "multiplicación = a * b\n",
    "suma = a + b\n",
    "print(\"Multiplicación:\", multiplicación)\n",
    "print(\"Suma:\", suma)"
   ]
  },
  {
   "cell_type": "markdown",
   "metadata": {},
   "source": [
    "# Conversión de minutos a horas\n",
    "minutos = 120\n",
    "horas = minutos / 60\n",
    "print(f\"{minutos} minutos son {horas} horas\")"
   ]
  },
  {
   "cell_type": "markdown",
   "metadata": {},
   "source": [
    "## Objetivos del Cuaderno  \n",
    "- Aprender los lenguajes usados en ciencia de datos  \n",
    "- Conocer bibliotecas y herramientas populares  \n",
    "- Practicar operaciones básicas en Python  \n",
    "- Usar celdas Markdown para documentación"
   ]
  },
  {
   "cell_type": "markdown",
   "metadata": {},
   "source": [
    "**Autor:** Carlos"
   ]
  },
  {
   "cell_type": "code",
   "execution_count": null,
   "metadata": {},
   "outputs": [],
   "source": []
  }
 ],
 "metadata": {
  "kernelspec": {
   "display_name": "Python 3 (ipykernel)",
   "language": "python",
   "name": "python3"
  },
  "language_info": {
   "codemirror_mode": {
    "name": "ipython",
    "version": 3
   },
   "file_extension": ".py",
   "mimetype": "text/x-python",
   "name": "python",
   "nbconvert_exporter": "python",
   "pygments_lexer": "ipython3",
   "version": "3.12.8"
  }
 },
 "nbformat": 4,
 "nbformat_minor": 4
}
